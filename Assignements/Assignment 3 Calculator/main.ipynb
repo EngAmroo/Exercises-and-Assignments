{
 "cells": [
  {
   "cell_type": "code",
   "execution_count": 2,
   "id": "db792f23-ae14-41e8-a1ca-b52ef8d5a5c2",
   "metadata": {},
   "outputs": [
    {
     "name": "stdin",
     "output_type": "stream",
     "text": [
      "Enter First number to do your operation:  a\n"
     ]
    },
    {
     "name": "stdout",
     "output_type": "stream",
     "text": [
      "**** INPUT MUST BE NUMBERS AND OPERATION METHOD LIKE + - * / ONLY ****\n"
     ]
    },
    {
     "name": "stdin",
     "output_type": "stream",
     "text": [
      "Enter First number to do your operation:  5\n",
      "Enter operation method (+ - * /) to do your operation:  a\n"
     ]
    },
    {
     "name": "stdout",
     "output_type": "stream",
     "text": [
      "Operation Method must be(+ - * /)\n"
     ]
    },
    {
     "name": "stdin",
     "output_type": "stream",
     "text": [
      "Enter First number to do your operation:  5\n",
      "Enter operation method (+ - * /) to do your operation:  +\n",
      "Enter Second number to do your operation:  5\n"
     ]
    },
    {
     "name": "stdout",
     "output_type": "stream",
     "text": [
      "5 + 5 = 10\n"
     ]
    },
    {
     "name": "stdin",
     "output_type": "stream",
     "text": [
      "Type Continue To Do Another Operation And Stop To Exit:  continue\n",
      "Enter First number to do your operation:  5\n",
      "Enter operation method (+ - * /) to do your operation:  /\n",
      "Enter Second number to do your operation:  0\n"
     ]
    },
    {
     "name": "stdout",
     "output_type": "stream",
     "text": [
      "****CAN'T DIVIDE BY ZERO****\n"
     ]
    },
    {
     "name": "stdin",
     "output_type": "stream",
     "text": [
      "Type Continue To Do Another Operation And Stop To Exit:  stop\n"
     ]
    }
   ],
   "source": [
    "from Calcu import calculator ##IMPORT MODULE Calcu which I made\n",
    "while True: ##While the code is not fasle then start my code directory\n",
    "    try:\n",
    "        fnumber = int(input(\"Enter First number to do your operation: \"))\n",
    "        op = input(\"Enter operation method (+ - * /) to do your operation: \")\n",
    "        ##Check the input of op must be (+ - * /)\n",
    "        if op in ['+' , '-' , '*' , '/']:\n",
    "            snumber = int(input(\"Enter Second number to do your operation: \"))\n",
    "            ##Calling function calculator from Calcu with 3 parameters\n",
    "            calculator(fnumber,op,snumber)\n",
    "            ##Asking user if need to contiune or end the code\n",
    "            Continue = input(\"Type Continue To Do Another Operation And Stop To Exit: \")\n",
    "            if Continue.lower() == \"continue\":\n",
    "                continue\n",
    "            elif Continue.lower() == \"stop\":\n",
    "                break\n",
    "        ##End of check the input of op must be (+ - * /)\n",
    "        else:\n",
    "            print(\"Operation Method must be(+ - * /)\")\n",
    "\n",
    "    except:\n",
    "        print(\"**** INPUT MUST BE NUMBERS AND OPERATION METHOD LIKE + - * / ONLY ****\")"
   ]
  },
  {
   "cell_type": "code",
   "execution_count": null,
   "id": "c6a1190a-a4f8-4d0f-997c-a0764edc03d0",
   "metadata": {},
   "outputs": [],
   "source": []
  },
  {
   "cell_type": "code",
   "execution_count": null,
   "id": "22e8b112-9fe2-4830-8025-8f864a3a5847",
   "metadata": {},
   "outputs": [],
   "source": []
  }
 ],
 "metadata": {
  "kernelspec": {
   "display_name": "Python 3 (ipykernel)",
   "language": "python",
   "name": "python3"
  },
  "language_info": {
   "codemirror_mode": {
    "name": "ipython",
    "version": 3
   },
   "file_extension": ".py",
   "mimetype": "text/x-python",
   "name": "python",
   "nbconvert_exporter": "python",
   "pygments_lexer": "ipython3",
   "version": "3.12.7"
  }
 },
 "nbformat": 4,
 "nbformat_minor": 5
}
