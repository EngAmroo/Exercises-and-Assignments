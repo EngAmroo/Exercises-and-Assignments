{
 "cells": [
  {
   "cell_type": "code",
   "execution_count": 21,
   "id": "72473609-1099-4b32-abb1-785d98d75921",
   "metadata": {},
   "outputs": [
    {
     "name": "stdin",
     "output_type": "stream",
     "text": [
      "Enter First Name:  Amr\n",
      "Enter Second Name:  Samir\n",
      "Enter gender (M/F):  M\n",
      "Enter ID in 3 digits:  360\n"
     ]
    }
   ],
   "source": [
    "def saveInfo():\n",
    "    fname = input(\"Enter First Name: \")\n",
    "    sname = input(\"Enter Second Name: \")\n",
    "    gender = input(\"Enter gender (M/F): \")\n",
    "    \n",
    "    while True:\n",
    "        ID = input(\"Enter ID in 3 digits: \")\n",
    "        if ID.isdigit() and len(ID) == 3:\n",
    "            break\n",
    "        else:\n",
    "            print(\"Invalid ID. Please enter a 3-digit number.\")\n",
    "\n",
    "    with open(\"practice-3.txt\",\"w\") as f:\n",
    "        f.write(f\"First name: {fname}\\n\")\n",
    "        f.write(f\"Second name: {sname}\\n\")\n",
    "        f.write(f\"Gender name: {gender}\\n\")\n",
    "        f.write(f\"ID: {ID}\\n\")\n",
    "\n",
    "saveInfo()"
   ]
  },
  {
   "cell_type": "code",
   "execution_count": null,
   "id": "b279e583-25a4-4c6f-84ff-07af41409374",
   "metadata": {},
   "outputs": [],
   "source": []
  }
 ],
 "metadata": {
  "kernelspec": {
   "display_name": "Python 3 (ipykernel)",
   "language": "python",
   "name": "python3"
  },
  "language_info": {
   "codemirror_mode": {
    "name": "ipython",
    "version": 3
   },
   "file_extension": ".py",
   "mimetype": "text/x-python",
   "name": "python",
   "nbconvert_exporter": "python",
   "pygments_lexer": "ipython3",
   "version": "3.12.7"
  }
 },
 "nbformat": 4,
 "nbformat_minor": 5
}
