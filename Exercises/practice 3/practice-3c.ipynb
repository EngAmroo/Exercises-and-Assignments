{
 "cells": [
  {
   "cell_type": "code",
   "execution_count": 13,
   "id": "bbb91809-d7d3-413a-8353-e126d8cc2397",
   "metadata": {},
   "outputs": [
    {
     "name": "stdin",
     "output_type": "stream",
     "text": [
      "Please enter first number:  15\n",
      "Please enter second number:  900\n"
     ]
    },
    {
     "name": "stdout",
     "output_type": "stream",
     "text": [
      "15 + 900= 915\n",
      "15 * 900= 13500\n"
     ]
    }
   ],
   "source": [
    "import myMath\n",
    "x=int(input(\"Please enter first number: \"))\n",
    "y=int(input(\"Please enter second number: \"))\n",
    "\n",
    "print(f\"{x} + {y}= {myMath.add(x,y)}\")\n",
    "print(f\"{x} * {y}= {myMath.mul(x,y)}\")"
   ]
  },
  {
   "cell_type": "code",
   "execution_count": null,
   "id": "18cf1a45-2ed9-4ad5-9261-365f193056eb",
   "metadata": {},
   "outputs": [],
   "source": []
  }
 ],
 "metadata": {
  "kernelspec": {
   "display_name": "Python 3 (ipykernel)",
   "language": "python",
   "name": "python3"
  },
  "language_info": {
   "codemirror_mode": {
    "name": "ipython",
    "version": 3
   },
   "file_extension": ".py",
   "mimetype": "text/x-python",
   "name": "python",
   "nbconvert_exporter": "python",
   "pygments_lexer": "ipython3",
   "version": "3.12.7"
  }
 },
 "nbformat": 4,
 "nbformat_minor": 5
}
