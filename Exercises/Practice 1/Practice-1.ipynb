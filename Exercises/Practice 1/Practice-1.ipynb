{
 "cells": [
  {
   "cell_type": "markdown",
   "id": "839b7d8d-458d-410a-9623-1979d6705507",
   "metadata": {},
   "source": [
    "# Heading 1\n",
    "## Heading 2\n",
    "### Heading 3\n",
    "#### Heading 4\n",
    "##### Heading 5\n",
    "###### Heading 6"
   ]
  },
  {
   "cell_type": "code",
   "execution_count": null,
   "id": "7e4ecae0-8fac-4cf1-9dcb-3c07713d114a",
   "metadata": {},
   "outputs": [],
   "source": [
    "print(\"Hello World\")"
   ]
  },
  {
   "cell_type": "code",
   "execution_count": null,
   "id": "c214813d-d789-4683-a810-fc9c4ed328a6",
   "metadata": {},
   "outputs": [],
   "source": [
    "batman=\"Bruce Wayne\"\n",
    "print(batman[0])     #print first letter\n",
    "print(batman[-1])    #print last letter\n",
    "print(batman[1:5])   #start point included but end point not included\n",
    "print(batman[1:8:2]) #start point, end point, step\n",
    "print(batman[:])     #print all\n",
    "print(batman[::-1])  #print all in reverse"
   ]
  },
  {
   "cell_type": "code",
   "execution_count": null,
   "id": "9b07652f-b3a8-48bd-8e0d-d5a3aee687ae",
   "metadata": {},
   "outputs": [],
   "source": [
    "print(len(batman))   #print length of batman"
   ]
  },
  {
   "cell_type": "code",
   "execution_count": 10,
   "id": "bff8b476-bf5c-4631-b548-d8ad5fc9189b",
   "metadata": {},
   "outputs": [
    {
     "name": "stdout",
     "output_type": "stream",
     "text": [
      "Hello World\n",
      "HelloHello\n",
      " World World\n"
     ]
    }
   ],
   "source": [
    "a=\"Hello\"\n",
    "b=\" World\"\n",
    "print(a+b) #print concatinate\n",
    "print(a*2) #print double value of a\n",
    "print(b*2) #print double value of b"
   ]
  },
  {
   "cell_type": "code",
   "execution_count": null,
   "id": "5bf82ffe-9083-478f-87a3-d233132d40c6",
   "metadata": {},
   "outputs": [],
   "source": []
  }
 ],
 "metadata": {
  "kernelspec": {
   "display_name": "Python 3 (ipykernel)",
   "language": "python",
   "name": "python3"
  },
  "language_info": {
   "codemirror_mode": {
    "name": "ipython",
    "version": 3
   },
   "file_extension": ".py",
   "mimetype": "text/x-python",
   "name": "python",
   "nbconvert_exporter": "python",
   "pygments_lexer": "ipython3",
   "version": "3.12.7"
  }
 },
 "nbformat": 4,
 "nbformat_minor": 5
}
