{
 "cells": [
  {
   "cell_type": "code",
   "execution_count": 27,
   "id": "7d52b6bf-230c-46fa-96f4-8d388e14eeee",
   "metadata": {},
   "outputs": [
    {
     "name": "stdin",
     "output_type": "stream",
     "text": [
      "Enter number 11\n"
     ]
    },
    {
     "name": "stdout",
     "output_type": "stream",
     "text": [
      "55\n"
     ]
    }
   ],
   "source": [
    "number = int(input(\"Enter number\"))\n",
    "sum=0\n",
    "for i in range(number):\n",
    "    sum+=i\n",
    "print(sum)"
   ]
  },
  {
   "cell_type": "code",
   "execution_count": 61,
   "id": "2eed006d-b133-439a-9af4-fb18c9eabc9e",
   "metadata": {
    "editable": true,
    "slideshow": {
     "slide_type": ""
    },
    "tags": []
   },
   "outputs": [
    {
     "name": "stdout",
     "output_type": "stream",
     "text": [
      "75\n",
      "150\n",
      "145\n"
     ]
    }
   ],
   "source": [
    "numbers=[12,75,150,180,145,525,50]\n",
    "for num in numbers:\n",
    "    if num>500:\n",
    "        break\n",
    "    elif num>150:\n",
    "        continue\n",
    "    elif num%5==0:\n",
    "        print(num)\n",
    "\n",
    "    \n",
    "    \n",
    "    "
   ]
  },
  {
   "cell_type": "code",
   "execution_count": 65,
   "id": "403d6f34-b4ce-4b7e-9bf6-9c0dea934a34",
   "metadata": {},
   "outputs": [
    {
     "name": "stdout",
     "output_type": "stream",
     "text": [
      "(50, 30)\n"
     ]
    }
   ],
   "source": [
    "def calculate(a,b):\n",
    "    return a+b , a-b\n",
    "res=calculate(40,10)\n",
    "print(res)"
   ]
  },
  {
   "cell_type": "code",
   "execution_count": 67,
   "id": "f245ceba-934a-49b4-9465-300455700f1c",
   "metadata": {},
   "outputs": [
    {
     "name": "stdout",
     "output_type": "stream",
     "text": [
      "Name Ben salary: 12000\n",
      "Name Jessa salary: 9000\n"
     ]
    }
   ],
   "source": [
    "def showEmployee(name,salary=9000):\n",
    "    print(f\"Name {name} salary: {salary}\")\n",
    "showEmployee(\"Ben\",12000)\n",
    "showEmployee(\"Jessa\")\n"
   ]
  },
  {
   "cell_type": "code",
   "execution_count": null,
   "id": "336cb841-8528-4ec9-a084-2d06f76c24cd",
   "metadata": {},
   "outputs": [],
   "source": []
  }
 ],
 "metadata": {
  "kernelspec": {
   "display_name": "Python 3 (ipykernel)",
   "language": "python",
   "name": "python3"
  },
  "language_info": {
   "codemirror_mode": {
    "name": "ipython",
    "version": 3
   },
   "file_extension": ".py",
   "mimetype": "text/x-python",
   "name": "python",
   "nbconvert_exporter": "python",
   "pygments_lexer": "ipython3",
   "version": "3.12.7"
  }
 },
 "nbformat": 4,
 "nbformat_minor": 5
}
