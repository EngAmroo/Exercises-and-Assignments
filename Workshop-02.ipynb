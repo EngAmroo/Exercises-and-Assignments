{
 "cells": [
  {
   "cell_type": "markdown",
   "id": "7042efc8-4273-49bd-992c-e0b9f52f7bfa",
   "metadata": {},
   "source": [
    "## Basic Arithmetic \n",
    "#### Write a Python program to add, subtract, multiply, and divide two numbers entered by the user."
   ]
  },
  {
   "cell_type": "code",
   "execution_count": 2,
   "id": "d8815931-ddf9-4141-a4cd-1fa7849eef5b",
   "metadata": {},
   "outputs": [
    {
     "name": "stdin",
     "output_type": "stream",
     "text": [
      "Enter first number:  5\n",
      "Enter second number:  5\n"
     ]
    },
    {
     "name": "stdout",
     "output_type": "stream",
     "text": [
      "5 + 5 = 10 \n",
      "5 - 5 = 0 \n",
      "5 * 5 = 25 \n",
      "5 / 5 = 1.0 \n"
     ]
    }
   ],
   "source": [
    "try:\n",
    "    FirstNumber = int(input(\"Enter first number: \"))\n",
    "    SecondNumber = int(input(\"Enter second number: \"))\n",
    "\n",
    "    print(f\"{FirstNumber} + {SecondNumber} = {FirstNumber+SecondNumber} \")\n",
    "    print(f\"{FirstNumber} - {SecondNumber} = {FirstNumber-SecondNumber} \")\n",
    "    print(f\"{FirstNumber} * {SecondNumber} = {FirstNumber*SecondNumber} \")\n",
    "    print(f\"{FirstNumber} / {SecondNumber} = {FirstNumber/SecondNumber} \")\n",
    "except:\n",
    "    print(\"Enter only numbers\")"
   ]
  },
  {
   "cell_type": "markdown",
   "id": "9065987d-77c3-4faa-bc6b-93258c56130c",
   "metadata": {},
   "source": [
    "## List Slicing \n",
    "####  Given a list numbers = [10, 20, 30, 40, 50, 60], write a program to extract: \n",
    "####  o The first three elements \n",
    "####  o The last two elements "
   ]
  },
  {
   "cell_type": "code",
   "execution_count": 4,
   "id": "19a1869d-4d17-433a-8e9f-ca2347c3e397",
   "metadata": {},
   "outputs": [
    {
     "name": "stdout",
     "output_type": "stream",
     "text": [
      "[10, 20, 30]\n",
      "[50, 60]\n"
     ]
    }
   ],
   "source": [
    "numbers = [10, 20, 30, 40, 50, 60]\n",
    "print(numbers[0:3])\n",
    "print(numbers[4:])"
   ]
  },
  {
   "cell_type": "markdown",
   "id": "acc44f95-8647-4577-a6d8-0995912792c4",
   "metadata": {},
   "source": [
    "## String Manipulation \n",
    "#### Write a Python program that takes a user-input string and converts it to: \n",
    "#### o All uppercase letters \n",
    "#### o All lowercase letters \n",
    "#### o Reverse order "
   ]
  },
  {
   "cell_type": "code",
   "execution_count": 6,
   "id": "c7cb8c8a-3dc5-424a-b279-423db0c538f3",
   "metadata": {},
   "outputs": [
    {
     "name": "stdin",
     "output_type": "stream",
     "text": [
      "Enter string to to make it lower and upper and reverse:  AmRo\n"
     ]
    },
    {
     "name": "stdout",
     "output_type": "stream",
     "text": [
      "amro\n",
      "AMRO\n",
      "oRmA\n"
     ]
    }
   ],
   "source": [
    "try:\n",
    "    textToChange = input(\"Enter string to to make it lower and upper and reverse: \")\n",
    "\n",
    "    print(textToChange.lower())\n",
    "    print(textToChange.upper())\n",
    "    print(textToChange[::-1])\n",
    "except:\n",
    "    print(\"Enter Strings only\")"
   ]
  },
  {
   "cell_type": "markdown",
   "id": "2c83adb5-8174-42a4-b894-2a8fe7e085c9",
   "metadata": {},
   "source": [
    "## Conditional Statements \n",
    "#### Write a program to determine if a number entered by the user is even or odd. "
   ]
  },
  {
   "cell_type": "code",
   "execution_count": 8,
   "id": "3fc214bf-66fe-4d77-8670-bff3757de06e",
   "metadata": {},
   "outputs": [
    {
     "name": "stdin",
     "output_type": "stream",
     "text": [
      "Enter number to check if it even or odd:  6\n"
     ]
    },
    {
     "name": "stdout",
     "output_type": "stream",
     "text": [
      "6 is Even\n"
     ]
    }
   ],
   "source": [
    "try:\n",
    "    NumberEvenOdd = int(input(\"Enter number to check if it even or odd: \"))\n",
    "    if NumberEvenOdd % 2 == 0:\n",
    "        print(f\"{NumberEvenOdd} is Even\")\n",
    "    elif NumberEvenOdd % 2 != 0:\n",
    "        print(f\"{NumberEvenOdd} is Odd\")\n",
    "    else:\n",
    "        print(\"Its Zero\")\n",
    "except:\n",
    "    print(\"Enter numbers not string ^^\")"
   ]
  },
  {
   "cell_type": "markdown",
   "id": "6a685d05-7e07-4d6b-bf06-908d8260a354",
   "metadata": {},
   "source": [
    "## Loop Basics \n",
    "#### Print all numbers from 1 to 50 that are divisible by both 3 and 5."
   ]
  },
  {
   "cell_type": "code",
   "execution_count": 10,
   "id": "9bdb21a7-e3f8-4444-ace5-538572e1557f",
   "metadata": {},
   "outputs": [
    {
     "name": "stdout",
     "output_type": "stream",
     "text": [
      "15\n",
      "30\n",
      "45\n"
     ]
    }
   ],
   "source": [
    "for i in range(1,51):\n",
    "    if i % 3 == 0 and i % 5 == 0:\n",
    "        print(i)"
   ]
  },
  {
   "cell_type": "markdown",
   "id": "be86cf40-afe8-445a-a4f5-4aa2d3ea642d",
   "metadata": {},
   "source": [
    "## Functions \n",
    "#### Write a function factorial(n) that returns the factorial of a given number n."
   ]
  },
  {
   "cell_type": "code",
   "execution_count": 12,
   "id": "72c5f9af-f228-4a35-bc3c-5320ba115b2f",
   "metadata": {},
   "outputs": [
    {
     "name": "stdin",
     "output_type": "stream",
     "text": [
      "Enter number to get factorial:  5\n"
     ]
    },
    {
     "name": "stdout",
     "output_type": "stream",
     "text": [
      "120\n"
     ]
    }
   ],
   "source": [
    "def factorial(NumFactorial):\n",
    "    try:\n",
    "        sum = 1\n",
    "        for i in range(1,int(NumFactorial)+1):\n",
    "            sum=sum*i\n",
    "        return sum\n",
    "    except:\n",
    "        return (\"**Enter Numbers Not STRINGS**\")\n",
    "\n",
    "NumFactorial = input(\"Enter number to get factorial: \")\n",
    "print(factorial(NumFactorial))"
   ]
  },
  {
   "cell_type": "markdown",
   "id": "da2c8b06-057f-4bc4-80b7-b57e6bd3ebaf",
   "metadata": {},
   "source": [
    "## List Comprehensions \n",
    "#### Create a list of squares of all even numbers from 1 to 20 using list comprehension. "
   ]
  },
  {
   "cell_type": "code",
   "execution_count": 14,
   "id": "e12393fc-928c-43b8-bdda-4732751ec27d",
   "metadata": {},
   "outputs": [
    {
     "name": "stdout",
     "output_type": "stream",
     "text": [
      "[1, 4, 9, 16, 25, 36, 49, 64, 81, 100, 121, 144, 169, 196, 225, 256, 289, 324, 361, 400]\n"
     ]
    }
   ],
   "source": [
    "square = [i**2 for i in range(1,21)]\n",
    "print(square)"
   ]
  },
  {
   "cell_type": "markdown",
   "id": "67a00fee-88ac-4f00-84a5-6986113ca680",
   "metadata": {},
   "source": [
    "## Dictionaries \n",
    "#### Write a program to count the frequency of each character in a given string and store the result in a dictionary. "
   ]
  },
  {
   "cell_type": "code",
   "execution_count": 16,
   "id": "62826eeb-b5ba-4763-b3a7-40d046648501",
   "metadata": {},
   "outputs": [
    {
     "name": "stdin",
     "output_type": "stream",
     "text": [
      "Enter a string:  Amr,Samir,Amr,Amr\n"
     ]
    },
    {
     "name": "stdout",
     "output_type": "stream",
     "text": [
      "Character frequencies: {'Amr': 3, 'Samir': 1}\n"
     ]
    }
   ],
   "source": [
    "def count_char_frequency(string):\n",
    "    char_count = {}\n",
    "    for char in string:\n",
    "        if char in char_count:\n",
    "            char_count[char] += 1\n",
    "        else:\n",
    "            char_count[char] = 1\n",
    "    return char_count\n",
    "    \n",
    "input_string = input(\"Enter a string: \").split(\",\")\n",
    "result = count_char_frequency(input_string)\n",
    "print(\"Character frequencies:\", result)"
   ]
  },
  {
   "cell_type": "markdown",
   "id": "ac736695-f565-4983-bbfb-0b4471d05b68",
   "metadata": {},
   "source": [
    "## Nested Loops \n",
    "#### Write a program to print the following pattern for a given n: \n",
    "#### 1 \n",
    "#### 12 \n",
    "#### 123 \n",
    "#### 1234 \n",
    "#### (Each row contains numbers from 1 to the row number.) "
   ]
  },
  {
   "cell_type": "code",
   "execution_count": 23,
   "id": "e38c51c9-4dcd-4466-a4b4-b49863a3cf67",
   "metadata": {},
   "outputs": [
    {
     "name": "stdin",
     "output_type": "stream",
     "text": [
      "Enter numbers to get the sequence:  4\n"
     ]
    },
    {
     "name": "stdout",
     "output_type": "stream",
     "text": [
      "1\n",
      "12\n",
      "123\n",
      "1234\n"
     ]
    }
   ],
   "source": [
    "try:\n",
    "    numberInSequence = int(input(\"Enter numbers to get the sequence: \"))    \n",
    "    for i in range(1, numberInSequence + 1):\n",
    "        for j in range(1, i + 1):\n",
    "            print(j, end=\"\")\n",
    "        print()\n",
    "    \n",
    "except:\n",
    "    print(\"**Enter Numbers**\")"
   ]
  },
  {
   "cell_type": "markdown",
   "id": "aefbd9ed-5b75-4c4e-a350-71f112915a4a",
   "metadata": {},
   "source": [
    "## Error Handling \n",
    "#### Write a program that takes two numbers from the user and divides the first by the \n",
    "#### second. Handle the case where the second number is zero with a meaningful error message."
   ]
  },
  {
   "cell_type": "code",
   "execution_count": 27,
   "id": "6a249389-1916-4e13-bd2a-cc215d851c74",
   "metadata": {},
   "outputs": [
    {
     "name": "stdin",
     "output_type": "stream",
     "text": [
      "Enter First Number:  5\n",
      "Enter Second Number:  0\n"
     ]
    },
    {
     "name": "stdout",
     "output_type": "stream",
     "text": [
      "**You cant divide by Zero**\n"
     ]
    }
   ],
   "source": [
    "try:\n",
    "    DivFirstNumber = int(input(\"Enter First Number: \"))\n",
    "    DivSecondNumber = int(input(\"Enter Second Number: \"))\n",
    "    print(DivFirstNumber/DivSecondNumber)\n",
    "    \n",
    "except ZeroDivisionError:\n",
    "    print(\"**You cant divide by Zero**\")\n",
    "except ValueError:\n",
    "    print(\"**INPUT MUST BE NUMBERS**\")"
   ]
  }
 ],
 "metadata": {
  "kernelspec": {
   "display_name": "Python 3 (ipykernel)",
   "language": "python",
   "name": "python3"
  },
  "language_info": {
   "codemirror_mode": {
    "name": "ipython",
    "version": 3
   },
   "file_extension": ".py",
   "mimetype": "text/x-python",
   "name": "python",
   "nbconvert_exporter": "python",
   "pygments_lexer": "ipython3",
   "version": "3.12.7"
  }
 },
 "nbformat": 4,
 "nbformat_minor": 5
}
